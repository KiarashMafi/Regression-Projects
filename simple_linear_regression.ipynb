{
 "cells": [
  {
   "cell_type": "code",
   "id": "initial_id",
   "metadata": {
    "collapsed": true,
    "ExecuteTime": {
     "end_time": "2024-06-28T08:32:04.150527Z",
     "start_time": "2024-06-28T08:32:04.135019Z"
    }
   },
   "source": [
    "import numpy as np\n",
    "import pandas as pd\n",
    "import matplotlib.pyplot as plt"
   ],
   "outputs": [],
   "execution_count": 33
  },
  {
   "metadata": {},
   "cell_type": "markdown",
   "source": "# Importing The Data",
   "id": "71a99329abf6cf33"
  },
  {
   "metadata": {
    "ExecuteTime": {
     "end_time": "2024-06-28T08:32:04.217227Z",
     "start_time": "2024-06-28T08:32:04.201136Z"
    }
   },
   "cell_type": "code",
   "source": "df = pd.read_csv('Salary_Data.csv')",
   "id": "8ae4dd7e2491232e",
   "outputs": [],
   "execution_count": 34
  },
  {
   "metadata": {
    "ExecuteTime": {
     "end_time": "2024-06-28T08:32:04.233022Z",
     "start_time": "2024-06-28T08:32:04.217586Z"
    }
   },
   "cell_type": "code",
   "source": [
    "X = df.iloc[:, :-1].values\n",
    "y = df.iloc[:, 1:].values"
   ],
   "id": "b9303077f54b6e12",
   "outputs": [],
   "execution_count": 35
  },
  {
   "metadata": {
    "ExecuteTime": {
     "end_time": "2024-06-28T08:32:04.249289Z",
     "start_time": "2024-06-28T08:32:04.235291Z"
    }
   },
   "cell_type": "code",
   "source": "X, y",
   "id": "320cac3edd1caa78",
   "outputs": [
    {
     "data": {
      "text/plain": [
       "(array([[ 1.1],\n",
       "        [ 1.3],\n",
       "        [ 1.5],\n",
       "        [ 2. ],\n",
       "        [ 2.2],\n",
       "        [ 2.9],\n",
       "        [ 3. ],\n",
       "        [ 3.2],\n",
       "        [ 3.2],\n",
       "        [ 3.7],\n",
       "        [ 3.9],\n",
       "        [ 4. ],\n",
       "        [ 4. ],\n",
       "        [ 4.1],\n",
       "        [ 4.5],\n",
       "        [ 4.9],\n",
       "        [ 5.1],\n",
       "        [ 5.3],\n",
       "        [ 5.9],\n",
       "        [ 6. ],\n",
       "        [ 6.8],\n",
       "        [ 7.1],\n",
       "        [ 7.9],\n",
       "        [ 8.2],\n",
       "        [ 8.7],\n",
       "        [ 9. ],\n",
       "        [ 9.5],\n",
       "        [ 9.6],\n",
       "        [10.3],\n",
       "        [10.5]]),\n",
       " array([[ 39343.],\n",
       "        [ 46205.],\n",
       "        [ 37731.],\n",
       "        [ 43525.],\n",
       "        [ 39891.],\n",
       "        [ 56642.],\n",
       "        [ 60150.],\n",
       "        [ 54445.],\n",
       "        [ 64445.],\n",
       "        [ 57189.],\n",
       "        [ 63218.],\n",
       "        [ 55794.],\n",
       "        [ 56957.],\n",
       "        [ 57081.],\n",
       "        [ 61111.],\n",
       "        [ 67938.],\n",
       "        [ 66029.],\n",
       "        [ 83088.],\n",
       "        [ 81363.],\n",
       "        [ 93940.],\n",
       "        [ 91738.],\n",
       "        [ 98273.],\n",
       "        [101302.],\n",
       "        [113812.],\n",
       "        [109431.],\n",
       "        [105582.],\n",
       "        [116969.],\n",
       "        [112635.],\n",
       "        [122391.],\n",
       "        [121872.]]))"
      ]
     },
     "execution_count": 36,
     "metadata": {},
     "output_type": "execute_result"
    }
   ],
   "execution_count": 36
  },
  {
   "metadata": {},
   "cell_type": "markdown",
   "source": "# Data Preprocessing",
   "id": "4423baf90506558f"
  },
  {
   "metadata": {},
   "cell_type": "markdown",
   "source": "## Splitting The Data",
   "id": "220c474c8dd1c5d3"
  },
  {
   "metadata": {
    "ExecuteTime": {
     "end_time": "2024-06-28T08:32:04.265862Z",
     "start_time": "2024-06-28T08:32:04.251859Z"
    }
   },
   "cell_type": "code",
   "source": [
    "from sklearn.model_selection import train_test_split\n",
    "\n",
    "X_train, X_test, y_train, y_test = train_test_split(X, y, test_size=0.2, random_state=0)"
   ],
   "id": "feead458d1513167",
   "outputs": [],
   "execution_count": 37
  },
  {
   "metadata": {
    "ExecuteTime": {
     "end_time": "2024-06-28T08:32:04.290063Z",
     "start_time": "2024-06-28T08:32:04.267141Z"
    }
   },
   "cell_type": "code",
   "source": "X_train, X_test",
   "id": "c2cc38ce468616bb",
   "outputs": [
    {
     "data": {
      "text/plain": [
       "(array([[ 9.6],\n",
       "        [ 4. ],\n",
       "        [ 5.3],\n",
       "        [ 7.9],\n",
       "        [ 2.9],\n",
       "        [ 5.1],\n",
       "        [ 3.2],\n",
       "        [ 4.5],\n",
       "        [ 8.2],\n",
       "        [ 6.8],\n",
       "        [ 1.3],\n",
       "        [10.5],\n",
       "        [ 3. ],\n",
       "        [ 2.2],\n",
       "        [ 5.9],\n",
       "        [ 6. ],\n",
       "        [ 3.7],\n",
       "        [ 3.2],\n",
       "        [ 9. ],\n",
       "        [ 2. ],\n",
       "        [ 1.1],\n",
       "        [ 7.1],\n",
       "        [ 4.9],\n",
       "        [ 4. ]]),\n",
       " array([[ 1.5],\n",
       "        [10.3],\n",
       "        [ 4.1],\n",
       "        [ 3.9],\n",
       "        [ 9.5],\n",
       "        [ 8.7]]))"
      ]
     },
     "execution_count": 38,
     "metadata": {},
     "output_type": "execute_result"
    }
   ],
   "execution_count": 38
  },
  {
   "metadata": {
    "ExecuteTime": {
     "end_time": "2024-06-28T08:32:04.305685Z",
     "start_time": "2024-06-28T08:32:04.290063Z"
    }
   },
   "cell_type": "code",
   "source": "y_train, y_test",
   "id": "e3128e86565e50cc",
   "outputs": [
    {
     "data": {
      "text/plain": [
       "(array([[112635.],\n",
       "        [ 55794.],\n",
       "        [ 83088.],\n",
       "        [101302.],\n",
       "        [ 56642.],\n",
       "        [ 66029.],\n",
       "        [ 64445.],\n",
       "        [ 61111.],\n",
       "        [113812.],\n",
       "        [ 91738.],\n",
       "        [ 46205.],\n",
       "        [121872.],\n",
       "        [ 60150.],\n",
       "        [ 39891.],\n",
       "        [ 81363.],\n",
       "        [ 93940.],\n",
       "        [ 57189.],\n",
       "        [ 54445.],\n",
       "        [105582.],\n",
       "        [ 43525.],\n",
       "        [ 39343.],\n",
       "        [ 98273.],\n",
       "        [ 67938.],\n",
       "        [ 56957.]]),\n",
       " array([[ 37731.],\n",
       "        [122391.],\n",
       "        [ 57081.],\n",
       "        [ 63218.],\n",
       "        [116969.],\n",
       "        [109431.]]))"
      ]
     },
     "execution_count": 39,
     "metadata": {},
     "output_type": "execute_result"
    }
   ],
   "execution_count": 39
  },
  {
   "metadata": {},
   "cell_type": "markdown",
   "source": "## Feature Scaling ",
   "id": "d03b6b73f01a2b8"
  },
  {
   "metadata": {
    "ExecuteTime": {
     "end_time": "2024-06-28T08:32:04.313687Z",
     "start_time": "2024-06-28T08:32:04.305685Z"
    }
   },
   "cell_type": "code",
   "source": [
    "from sklearn.preprocessing import StandardScaler\n",
    "\n",
    "sc = StandardScaler()\n",
    "X_train = sc.fit_transform(X_train)\n",
    "X_test = sc.transform(X_test)"
   ],
   "id": "2e66882520fd0714",
   "outputs": [],
   "execution_count": 40
  },
  {
   "metadata": {
    "ExecuteTime": {
     "end_time": "2024-06-28T08:32:04.328980Z",
     "start_time": "2024-06-28T08:32:04.315694Z"
    }
   },
   "cell_type": "code",
   "source": "X_test, X_train",
   "id": "405ad2809d429291",
   "outputs": [
    {
     "data": {
      "text/plain": [
       "(array([[-1.37762723],\n",
       "        [ 2.02933848],\n",
       "        [-0.37102373],\n",
       "        [-0.44845477],\n",
       "        [ 1.71961432],\n",
       "        [ 1.40989017]]),\n",
       " array([[ 1.75832984],\n",
       "        [-0.40973925],\n",
       "        [ 0.09356251],\n",
       "        [ 1.10016601],\n",
       "        [-0.83560996],\n",
       "        [ 0.01613147],\n",
       "        [-0.7194634 ],\n",
       "        [-0.21616165],\n",
       "        [ 1.21631257],\n",
       "        [ 0.6742953 ],\n",
       "        [-1.45505827],\n",
       "        [ 2.10676952],\n",
       "        [-0.79689444],\n",
       "        [-1.1066186 ],\n",
       "        [ 0.32585562],\n",
       "        [ 0.36457114],\n",
       "        [-0.52588581],\n",
       "        [-0.7194634 ],\n",
       "        [ 1.52603672],\n",
       "        [-1.18404964],\n",
       "        [-1.53248931],\n",
       "        [ 0.79044186],\n",
       "        [-0.06129957],\n",
       "        [-0.40973925]]))"
      ]
     },
     "execution_count": 41,
     "metadata": {},
     "output_type": "execute_result"
    }
   ],
   "execution_count": 41
  },
  {
   "metadata": {},
   "cell_type": "markdown",
   "source": "# Building And Training The Model",
   "id": "feaf3b4dc0219292"
  },
  {
   "metadata": {
    "ExecuteTime": {
     "end_time": "2024-06-28T08:32:04.348029Z",
     "start_time": "2024-06-28T08:32:04.332028Z"
    }
   },
   "cell_type": "code",
   "source": [
    "from sklearn.linear_model import LinearRegression\n",
    "\n",
    "regressor = LinearRegression()\n",
    "regressor.fit(X_train, y_train)"
   ],
   "id": "4e9ce81cbe355342",
   "outputs": [
    {
     "data": {
      "text/plain": [
       "LinearRegression()"
      ],
      "text/html": [
       "<style>#sk-container-id-2 {color: black;}#sk-container-id-2 pre{padding: 0;}#sk-container-id-2 div.sk-toggleable {background-color: white;}#sk-container-id-2 label.sk-toggleable__label {cursor: pointer;display: block;width: 100%;margin-bottom: 0;padding: 0.3em;box-sizing: border-box;text-align: center;}#sk-container-id-2 label.sk-toggleable__label-arrow:before {content: \"▸\";float: left;margin-right: 0.25em;color: #696969;}#sk-container-id-2 label.sk-toggleable__label-arrow:hover:before {color: black;}#sk-container-id-2 div.sk-estimator:hover label.sk-toggleable__label-arrow:before {color: black;}#sk-container-id-2 div.sk-toggleable__content {max-height: 0;max-width: 0;overflow: hidden;text-align: left;background-color: #f0f8ff;}#sk-container-id-2 div.sk-toggleable__content pre {margin: 0.2em;color: black;border-radius: 0.25em;background-color: #f0f8ff;}#sk-container-id-2 input.sk-toggleable__control:checked~div.sk-toggleable__content {max-height: 200px;max-width: 100%;overflow: auto;}#sk-container-id-2 input.sk-toggleable__control:checked~label.sk-toggleable__label-arrow:before {content: \"▾\";}#sk-container-id-2 div.sk-estimator input.sk-toggleable__control:checked~label.sk-toggleable__label {background-color: #d4ebff;}#sk-container-id-2 div.sk-label input.sk-toggleable__control:checked~label.sk-toggleable__label {background-color: #d4ebff;}#sk-container-id-2 input.sk-hidden--visually {border: 0;clip: rect(1px 1px 1px 1px);clip: rect(1px, 1px, 1px, 1px);height: 1px;margin: -1px;overflow: hidden;padding: 0;position: absolute;width: 1px;}#sk-container-id-2 div.sk-estimator {font-family: monospace;background-color: #f0f8ff;border: 1px dotted black;border-radius: 0.25em;box-sizing: border-box;margin-bottom: 0.5em;}#sk-container-id-2 div.sk-estimator:hover {background-color: #d4ebff;}#sk-container-id-2 div.sk-parallel-item::after {content: \"\";width: 100%;border-bottom: 1px solid gray;flex-grow: 1;}#sk-container-id-2 div.sk-label:hover label.sk-toggleable__label {background-color: #d4ebff;}#sk-container-id-2 div.sk-serial::before {content: \"\";position: absolute;border-left: 1px solid gray;box-sizing: border-box;top: 0;bottom: 0;left: 50%;z-index: 0;}#sk-container-id-2 div.sk-serial {display: flex;flex-direction: column;align-items: center;background-color: white;padding-right: 0.2em;padding-left: 0.2em;position: relative;}#sk-container-id-2 div.sk-item {position: relative;z-index: 1;}#sk-container-id-2 div.sk-parallel {display: flex;align-items: stretch;justify-content: center;background-color: white;position: relative;}#sk-container-id-2 div.sk-item::before, #sk-container-id-2 div.sk-parallel-item::before {content: \"\";position: absolute;border-left: 1px solid gray;box-sizing: border-box;top: 0;bottom: 0;left: 50%;z-index: -1;}#sk-container-id-2 div.sk-parallel-item {display: flex;flex-direction: column;z-index: 1;position: relative;background-color: white;}#sk-container-id-2 div.sk-parallel-item:first-child::after {align-self: flex-end;width: 50%;}#sk-container-id-2 div.sk-parallel-item:last-child::after {align-self: flex-start;width: 50%;}#sk-container-id-2 div.sk-parallel-item:only-child::after {width: 0;}#sk-container-id-2 div.sk-dashed-wrapped {border: 1px dashed gray;margin: 0 0.4em 0.5em 0.4em;box-sizing: border-box;padding-bottom: 0.4em;background-color: white;}#sk-container-id-2 div.sk-label label {font-family: monospace;font-weight: bold;display: inline-block;line-height: 1.2em;}#sk-container-id-2 div.sk-label-container {text-align: center;}#sk-container-id-2 div.sk-container {/* jupyter's `normalize.less` sets `[hidden] { display: none; }` but bootstrap.min.css set `[hidden] { display: none !important; }` so we also need the `!important` here to be able to override the default hidden behavior on the sphinx rendered scikit-learn.org. See: https://github.com/scikit-learn/scikit-learn/issues/21755 */display: inline-block !important;position: relative;}#sk-container-id-2 div.sk-text-repr-fallback {display: none;}</style><div id=\"sk-container-id-2\" class=\"sk-top-container\"><div class=\"sk-text-repr-fallback\"><pre>LinearRegression()</pre><b>In a Jupyter environment, please rerun this cell to show the HTML representation or trust the notebook. <br />On GitHub, the HTML representation is unable to render, please try loading this page with nbviewer.org.</b></div><div class=\"sk-container\" hidden><div class=\"sk-item\"><div class=\"sk-estimator sk-toggleable\"><input class=\"sk-toggleable__control sk-hidden--visually\" id=\"sk-estimator-id-2\" type=\"checkbox\" checked><label for=\"sk-estimator-id-2\" class=\"sk-toggleable__label sk-toggleable__label-arrow\">LinearRegression</label><div class=\"sk-toggleable__content\"><pre>LinearRegression()</pre></div></div></div></div></div>"
      ]
     },
     "execution_count": 42,
     "metadata": {},
     "output_type": "execute_result"
    }
   ],
   "execution_count": 42
  },
  {
   "metadata": {
    "ExecuteTime": {
     "end_time": "2024-06-28T08:32:04.364055Z",
     "start_time": "2024-06-28T08:32:04.350030Z"
    }
   },
   "cell_type": "code",
   "source": "y_pred = regressor.predict(X_test)",
   "id": "ec11f7d0e808603",
   "outputs": [],
   "execution_count": 43
  },
  {
   "metadata": {
    "ExecuteTime": {
     "end_time": "2024-06-28T08:32:04.373426Z",
     "start_time": "2024-06-28T08:32:04.365055Z"
    }
   },
   "cell_type": "code",
   "source": [
    "r2_score = regressor.score(X_test, y_test)\n",
    "print(r2_score*100)"
   ],
   "id": "77f80ed3fcdc019f",
   "outputs": [
    {
     "name": "stdout",
     "output_type": "stream",
     "text": [
      "98.8169515729126\n"
     ]
    }
   ],
   "execution_count": 44
  },
  {
   "metadata": {},
   "cell_type": "markdown",
   "source": "# Visualizing The Data",
   "id": "fd6f4903a02049bc"
  },
  {
   "metadata": {},
   "cell_type": "markdown",
   "source": "## Training Data",
   "id": "85791eda84044a35"
  },
  {
   "metadata": {
    "ExecuteTime": {
     "end_time": "2024-06-28T08:32:06.800583Z",
     "start_time": "2024-06-28T08:32:06.634413Z"
    }
   },
   "cell_type": "code",
   "source": [
    "plt.scatter(X_train, y_train, color='red')\n",
    "plt.plot(X_train, regressor.predict(X_train), color='blue')\n",
    "plt.title('Salary vs Experience')\n",
    "plt.xlabel('Years of Experience')\n",
    "plt.ylabel('Salary')\n",
    "plt.show()"
   ],
   "id": "57af752d6276fd90",
   "outputs": [
    {
     "data": {
      "text/plain": [
       "<Figure size 640x480 with 1 Axes>"
      ],
      "image/png": "[encoded data removed]"
     },
     "metadata": {},
     "output_type": "display_data"
    }
   ],
   "execution_count": 45
  },
  {
   "metadata": {},
   "cell_type": "markdown",
   "source": "## Test Data",
   "id": "72a44017632ae989"
  },
  {
   "metadata": {
    "ExecuteTime": {
     "end_time": "2024-06-28T08:32:35.415143Z",
     "start_time": "2024-06-28T08:32:35.249513Z"
    }
   },
   "cell_type": "code",
   "source": [
    "plt.scatter(X_test, y_test, color='red')\n",
    "plt.plot(X_train, regressor.predict(X_train), color='blue')\n",
    "plt.title('Salary vs Experience')\n",
    "plt.xlabel('Years of Experience')\n",
    "plt.ylabel('Salary')\n",
    "plt.show()"
   ],
   "id": "aa0aa4aff58f3fde",
   "outputs": [
    {
     "data": {
      "text/plain": [
       "<Figure size 640x480 with 1 Axes>"
      ],
      "image/png": "[encoded data removed]"
     },
     "metadata": {},
     "output_type": "display_data"
    }
   ],
   "execution_count": 46
  },
  {
   "metadata": {},
   "cell_type": "code",
   "outputs": [],
   "execution_count": null,
   "source": "",
   "id": "231d67a8788899b6"
  }
 ],
 "metadata": {
  "kernelspec": {
   "display_name": "Python 3",
   "language": "python",
   "name": "python3"
  },
  "language_info": {
   "codemirror_mode": {
    "name": "ipython",
    "version": 2
   },
   "file_extension": ".py",
   "mimetype": "text/x-python",
   "name": "python",
   "nbconvert_exporter": "python",
   "pygments_lexer": "ipython2",
   "version": "2.7.6"
  }
 },
 "nbformat": 4,
 "nbformat_minor": 5
}
